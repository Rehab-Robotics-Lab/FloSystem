{
 "cells": [
  {
   "cell_type": "code",
   "execution_count": 11,
   "metadata": {},
   "outputs": [],
   "source": [
    "import numpy as np\n",
    "import math"
   ]
  },
  {
   "cell_type": "markdown",
   "metadata": {},
   "source": [
    "# D415 Analysis"
   ]
  },
  {
   "cell_type": "markdown",
   "metadata": {},
   "source": [
    "## Depth Field of View"
   ]
  },
  {
   "cell_type": "markdown",
   "metadata": {},
   "source": [
    "This is all coming from here: https://www.intelrealsense.com/wp-content/uploads/2019/07/Intel-RealSense-D400-Series-Datasheet-Jun-2019.pdf Take a look at page 57 for the equation and page 33 for the baseline and horizontal FOV"
   ]
  },
  {
   "cell_type": "code",
   "execution_count": 53,
   "metadata": {},
   "outputs": [],
   "source": [
    "def dfov(z):\n",
    "    HFOV = 65\n",
    "    baseline = 55/1000\n",
    "    return HFOV/2 + math.degrees(math.atan(math.tan(math.radians(HFOV/2))-baseline/z))"
   ]
  },
  {
   "cell_type": "code",
   "execution_count": 54,
   "metadata": {},
   "outputs": [],
   "source": [
    "def dwidth(z, fov):\n",
    "    return 2*math.tan(math.radians(fov/2)) * z"
   ]
  },
  {
   "cell_type": "code",
   "execution_count": 55,
   "metadata": {},
   "outputs": [],
   "source": [
    "minz= 450/1000\n"
   ]
  },
  {
   "cell_type": "code",
   "execution_count": 56,
   "metadata": {},
   "outputs": [
    {
     "name": "stdout",
     "output_type": "stream",
     "text": [
      "z: 0.450000\t\t hfov: 59.741585\t\t width: 0.516913\n",
      "z: 0.950000\t\t hfov: 62.578373\t\t width: 1.154727\n",
      "z: 1.450000\t\t hfov: 63.427479\t\t width: 1.792037\n",
      "z: 1.950000\t\t hfov: 63.835778\t\t width: 2.429226\n",
      "z: 2.450000\t\t hfov: 64.075769\t\t width: 3.066367\n",
      "z: 2.950000\t\t hfov: 64.233732\t\t width: 3.703484\n",
      "z: 3.450000\t\t hfov: 64.345583\t\t width: 4.340587\n",
      "z: 3.950000\t\t hfov: 64.428941\t\t width: 4.977682\n",
      "z: 4.450000\t\t hfov: 64.493462\t\t width: 5.614772\n",
      "z: 4.950000\t\t hfov: 64.544885\t\t width: 6.251858\n"
     ]
    }
   ],
   "source": [
    "for z in np.arange(minz,5.45,.5):\n",
    "    fov = dfov(z)\n",
    "    width = dwidth(z,fov)\n",
    "    print('z: {:f}\\t\\t hfov: {:f}\\t\\t width: {:f}'.format(z,dfov(z),width))"
   ]
  },
  {
   "cell_type": "markdown",
   "metadata": {},
   "source": [
    "## Depth of Field"
   ]
  },
  {
   "cell_type": "code",
   "execution_count": 63,
   "metadata": {},
   "outputs": [],
   "source": [
    "def max_z(xres,hfov,ds):\n",
    "    '''calc max z\n",
    "    \n",
    "    Args:\n",
    "    - xres: the pixel resolution\n",
    "    - hfov: the degree based hfov\n",
    "    - ds: disparity shift\n",
    "    '''\n",
    "    baseline = 55/1000\n",
    "    focal_length = .5*xres/(math.tan(math.radians(hfov/2)))\n",
    "    return focal_length * baseline / ds"
   ]
  },
  {
   "cell_type": "code",
   "execution_count": 61,
   "metadata": {},
   "outputs": [],
   "source": [
    "def min_z(xres,hfov,ds):\n",
    "    baseline = 55/1000\n",
    "    focal_length = .5*xres/(math.tan(math.radians(hfov/2)))\n",
    "    return focal_length * baseline/(ds+126)"
   ]
  },
  {
   "cell_type": "markdown",
   "metadata": {},
   "source": [
    "So I think we need a max z of about 2 meters. They recomend using 1280x720"
   ]
  },
  {
   "cell_type": "code",
   "execution_count": 72,
   "metadata": {},
   "outputs": [
    {
     "name": "stdout",
     "output_type": "stream",
     "text": [
      "ds: 0\tmz: inf\n",
      "ds: 5\tmz: 8.078284966501245\n",
      "ds: 10\tmz: 4.039142483250623\n",
      "ds: 15\tmz: 2.692761655500415\n",
      "ds: 20\tmz: 2.0195712416253113\n",
      "ds: 25\tmz: 1.615656993300249\n",
      "ds: 30\tmz: 1.3463808277502074\n",
      "ds: 35\tmz: 1.154040709500178\n",
      "ds: 40\tmz: 1.0097856208126557\n",
      "ds: 45\tmz: 0.8975872185001383\n",
      "ds: 50\tmz: 0.8078284966501245\n",
      "ds: 55\tmz: 0.7343895424092041\n",
      "ds: 60\tmz: 0.6731904138751037\n",
      "ds: 65\tmz: 0.6214065358847112\n",
      "ds: 70\tmz: 0.577020354750089\n",
      "ds: 75\tmz: 0.538552331100083\n",
      "ds: 80\tmz: 0.5048928104063278\n",
      "ds: 85\tmz: 0.47519323332360264\n",
      "ds: 90\tmz: 0.44879360925006917\n",
      "ds: 95\tmz: 0.4251728929737497\n",
      "ds: 100\tmz: 0.40391424832506223\n",
      "ds: 105\tmz: 0.3846802365000593\n",
      "ds: 110\tmz: 0.36719477120460203\n",
      "ds: 115\tmz: 0.351229781152228\n"
     ]
    },
    {
     "name": "stderr",
     "output_type": "stream",
     "text": [
      "/home/mjsobrep/.local/lib/python3.5/site-packages/ipykernel_launcher.py:11: RuntimeWarning: divide by zero encountered in true_divide\n",
      "  # This is added back by InteractiveShellApp.init_path()\n"
     ]
    }
   ],
   "source": [
    "for ds in np.arange(0,120,5):\n",
    "    print('ds: {}\\tmz: {}'.format(ds,max_z(848,60,ds)))"
   ]
  },
  {
   "cell_type": "markdown",
   "metadata": {},
   "source": [
    "so lets go with 25 as a safe value"
   ]
  },
  {
   "cell_type": "code",
   "execution_count": 74,
   "metadata": {},
   "outputs": [
    {
     "data": {
      "text/plain": [
       "0.27665359474319334"
      ]
     },
     "execution_count": 74,
     "metadata": {},
     "output_type": "execute_result"
    }
   ],
   "source": [
    "min_z(848,60,20)"
   ]
  },
  {
   "cell_type": "code",
   "execution_count": 71,
   "metadata": {},
   "outputs": [
    {
     "data": {
      "text/plain": [
       "1.7777777777777777"
      ]
     },
     "execution_count": 71,
     "metadata": {},
     "output_type": "execute_result"
    }
   ],
   "source": [
    "1280/720\n"
   ]
  },
  {
   "cell_type": "code",
   "execution_count": 70,
   "metadata": {},
   "outputs": [
    {
     "data": {
      "text/plain": [
       "1.7666666666666666"
      ]
     },
     "execution_count": 70,
     "metadata": {},
     "output_type": "execute_result"
    }
   ],
   "source": [
    "848/480"
   ]
  },
  {
   "cell_type": "code",
   "execution_count": null,
   "metadata": {},
   "outputs": [],
   "source": []
  }
 ],
 "metadata": {
  "kernelspec": {
   "display_name": "Python 3",
   "language": "python",
   "name": "python3"
  },
  "language_info": {
   "codemirror_mode": {
    "name": "ipython",
    "version": 3
   },
   "file_extension": ".py",
   "mimetype": "text/x-python",
   "name": "python",
   "nbconvert_exporter": "python",
   "pygments_lexer": "ipython3",
   "version": "3.5.2"
  }
 },
 "nbformat": 4,
 "nbformat_minor": 2
}
